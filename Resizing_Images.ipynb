{
 "cells": [
  {
   "cell_type": "markdown",
   "metadata": {},
   "source": [
    "# Resizing Images"
   ]
  },
  {
   "cell_type": "code",
   "execution_count": null,
   "metadata": {},
   "outputs": [],
   "source": [
    "# Importing os and cv2 module \n",
    "import cv2\n",
    "import os\n",
    "\n",
    "# path of the folder whose images is to  be resized.\n",
    "path='Folder_path'\n",
    "\n",
    "for i in os.listdir(path):\n",
    "    print(i)\n",
    "    \n",
    "    img=cv2.imread(path+'/'+i)                      # Reading images \n",
    "   \n",
    "    r_img=cv2.resize(img,(150,150))                 # resizing image :(150,150)==(image_height,image_width)\n",
    "    \n",
    "    cv2.imwrite('resize_folder/{}'.format(i),r_img) # saving the resized image in other folder \n",
    "                                                    # replace 'resize_folder' with the path of the folder \n",
    "                                                    # in which you want to save the resized images."
   ]
  }
 ],
 "metadata": {
  "kernelspec": {
   "display_name": "Python 3",
   "language": "python",
   "name": "python3"
  },
  "language_info": {
   "codemirror_mode": {
    "name": "ipython",
    "version": 3
   },
   "file_extension": ".py",
   "mimetype": "text/x-python",
   "name": "python",
   "nbconvert_exporter": "python",
   "pygments_lexer": "ipython3",
   "version": "3.7.1"
  }
 },
 "nbformat": 4,
 "nbformat_minor": 2
}
